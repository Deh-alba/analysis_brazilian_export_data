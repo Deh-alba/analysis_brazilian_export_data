{
 "cells": [
  {
   "cell_type": "markdown",
   "metadata": {},
   "source": [
    "Analisis about the Bazilian commodities exportation "
   ]
  },
  {
   "cell_type": "code",
   "execution_count": 60,
   "metadata": {},
   "outputs": [],
   "source": [
    "import pandas as pd\n",
    "#Tirar seaborn\n",
    "import seaborn as sns\n",
    "import matplotlib.pyplot as plt\n",
    "import numpy as np"
   ]
  },
  {
   "cell_type": "code",
   "execution_count": 70,
   "metadata": {},
   "outputs": [],
   "source": [
    "pd.options.display.float_format = '{:,.2f}'.format"
   ]
  },
  {
   "cell_type": "markdown",
   "metadata": {},
   "source": [
    "load arquive"
   ]
  },
  {
   "cell_type": "code",
   "execution_count": 62,
   "metadata": {},
   "outputs": [],
   "source": [
    "df = pd.read_csv('data_comexstat.csv', encoding='ISO-8859-1')"
   ]
  },
  {
   "cell_type": "code",
   "execution_count": 63,
   "metadata": {},
   "outputs": [
    {
     "data": {
      "text/html": [
       "<div>\n",
       "<style scoped>\n",
       "    .dataframe tbody tr th:only-of-type {\n",
       "        vertical-align: middle;\n",
       "    }\n",
       "\n",
       "    .dataframe tbody tr th {\n",
       "        vertical-align: top;\n",
       "    }\n",
       "\n",
       "    .dataframe thead th {\n",
       "        text-align: right;\n",
       "    }\n",
       "</style>\n",
       "<table border=\"1\" class=\"dataframe\">\n",
       "  <thead>\n",
       "    <tr style=\"text-align: right;\">\n",
       "      <th></th>\n",
       "      <th>date</th>\n",
       "      <th>product</th>\n",
       "      <th>state</th>\n",
       "      <th>country</th>\n",
       "      <th>type</th>\n",
       "      <th>route</th>\n",
       "      <th>tons</th>\n",
       "      <th>usd</th>\n",
       "    </tr>\n",
       "  </thead>\n",
       "  <tbody>\n",
       "    <tr>\n",
       "      <th>0</th>\n",
       "      <td>1997-01-01</td>\n",
       "      <td>corn</td>\n",
       "      <td>ES</td>\n",
       "      <td>United States</td>\n",
       "      <td>Import</td>\n",
       "      <td>Sea</td>\n",
       "      <td>44.05</td>\n",
       "      <td>113,029.00</td>\n",
       "    </tr>\n",
       "    <tr>\n",
       "      <th>1</th>\n",
       "      <td>1997-01-01</td>\n",
       "      <td>corn</td>\n",
       "      <td>GO</td>\n",
       "      <td>Argentina</td>\n",
       "      <td>Import</td>\n",
       "      <td>Ground</td>\n",
       "      <td>54.00</td>\n",
       "      <td>36,720.00</td>\n",
       "    </tr>\n",
       "    <tr>\n",
       "      <th>2</th>\n",
       "      <td>1997-01-01</td>\n",
       "      <td>corn</td>\n",
       "      <td>GO</td>\n",
       "      <td>Bolivia</td>\n",
       "      <td>Export</td>\n",
       "      <td>Ground</td>\n",
       "      <td>0.20</td>\n",
       "      <td>180.00</td>\n",
       "    </tr>\n",
       "    <tr>\n",
       "      <th>3</th>\n",
       "      <td>1997-01-01</td>\n",
       "      <td>corn</td>\n",
       "      <td>GO</td>\n",
       "      <td>United States</td>\n",
       "      <td>Export</td>\n",
       "      <td>Sea</td>\n",
       "      <td>3.49</td>\n",
       "      <td>5,688.00</td>\n",
       "    </tr>\n",
       "    <tr>\n",
       "      <th>4</th>\n",
       "      <td>1997-01-01</td>\n",
       "      <td>corn</td>\n",
       "      <td>MG</td>\n",
       "      <td>Argentina</td>\n",
       "      <td>Import</td>\n",
       "      <td>Ground</td>\n",
       "      <td>27.00</td>\n",
       "      <td>18,630.00</td>\n",
       "    </tr>\n",
       "  </tbody>\n",
       "</table>\n",
       "</div>"
      ],
      "text/plain": [
       "         date product state        country    type   route  tons        usd\n",
       "0  1997-01-01    corn    ES  United States  Import     Sea 44.05 113,029.00\n",
       "1  1997-01-01    corn    GO      Argentina  Import  Ground 54.00  36,720.00\n",
       "2  1997-01-01    corn    GO        Bolivia  Export  Ground  0.20     180.00\n",
       "3  1997-01-01    corn    GO  United States  Export     Sea  3.49   5,688.00\n",
       "4  1997-01-01    corn    MG      Argentina  Import  Ground 27.00  18,630.00"
      ]
     },
     "execution_count": 63,
     "metadata": {},
     "output_type": "execute_result"
    }
   ],
   "source": [
    "df.head()"
   ]
  },
  {
   "cell_type": "code",
   "execution_count": 64,
   "metadata": {},
   "outputs": [
    {
     "data": {
      "text/plain": [
       "count         117965\n",
       "unique           276\n",
       "top       2019-08-01\n",
       "freq            1204\n",
       "Name: date, dtype: object"
      ]
     },
     "execution_count": 64,
     "metadata": {},
     "output_type": "execute_result"
    }
   ],
   "source": [
    "df['date'].describe()"
   ]
  },
  {
   "cell_type": "code",
   "execution_count": 65,
   "metadata": {},
   "outputs": [
    {
     "data": {
      "text/plain": [
       "str"
      ]
     },
     "execution_count": 65,
     "metadata": {},
     "output_type": "execute_result"
    }
   ],
   "source": [
    "type(df['date'][0])"
   ]
  },
  {
   "cell_type": "markdown",
   "metadata": {},
   "source": [
    "Convert comlumn data from string to date"
   ]
  },
  {
   "cell_type": "code",
   "execution_count": 66,
   "metadata": {},
   "outputs": [],
   "source": [
    "df['date']=pd.to_datetime(df['date'], infer_datetime_format=True)"
   ]
  },
  {
   "cell_type": "markdown",
   "metadata": {},
   "source": [
    "Calculate data since registrer to today"
   ]
  },
  {
   "cell_type": "code",
   "execution_count": 67,
   "metadata": {},
   "outputs": [],
   "source": [
    "# Year difference\n",
    "today = pd.to_datetime('today')\n",
    "diff_y = today.year - df['date'].dt.year\n",
    "df['year'] = df['date'].dt.year\n",
    "b_md = df['date'].apply(lambda x: (x.month,x.day) )\n",
    "no_date = b_md > (today.month,today.day)\n",
    "df['since'] = diff_y - no_date"
   ]
  },
  {
   "cell_type": "markdown",
   "metadata": {},
   "source": [
    "Get data since five yars ago and only exportation register"
   ]
  },
  {
   "cell_type": "code",
   "execution_count": 68,
   "metadata": {},
   "outputs": [],
   "source": [
    "exportationd_five_years = df[(df['type']=='Export') & (df['since']<=5)]"
   ]
  },
  {
   "cell_type": "code",
   "execution_count": 71,
   "metadata": {},
   "outputs": [
    {
     "data": {
      "text/html": [
       "<div>\n",
       "<style scoped>\n",
       "    .dataframe tbody tr th:only-of-type {\n",
       "        vertical-align: middle;\n",
       "    }\n",
       "\n",
       "    .dataframe tbody tr th {\n",
       "        vertical-align: top;\n",
       "    }\n",
       "\n",
       "    .dataframe thead th {\n",
       "        text-align: right;\n",
       "    }\n",
       "</style>\n",
       "<table border=\"1\" class=\"dataframe\">\n",
       "  <thead>\n",
       "    <tr style=\"text-align: right;\">\n",
       "      <th></th>\n",
       "      <th>date</th>\n",
       "      <th>product</th>\n",
       "      <th>state</th>\n",
       "      <th>country</th>\n",
       "      <th>type</th>\n",
       "      <th>route</th>\n",
       "      <th>tons</th>\n",
       "      <th>usd</th>\n",
       "      <th>year</th>\n",
       "      <th>since</th>\n",
       "    </tr>\n",
       "  </thead>\n",
       "  <tbody>\n",
       "    <tr>\n",
       "      <th>78124</th>\n",
       "      <td>2015-06-01</td>\n",
       "      <td>corn</td>\n",
       "      <td>AC</td>\n",
       "      <td>Peru</td>\n",
       "      <td>Export</td>\n",
       "      <td>Ground</td>\n",
       "      <td>32.00</td>\n",
       "      <td>8,531.00</td>\n",
       "      <td>2015</td>\n",
       "      <td>5</td>\n",
       "    </tr>\n",
       "    <tr>\n",
       "      <th>78125</th>\n",
       "      <td>2015-06-01</td>\n",
       "      <td>corn</td>\n",
       "      <td>GO</td>\n",
       "      <td>Colombia</td>\n",
       "      <td>Export</td>\n",
       "      <td>Sea</td>\n",
       "      <td>308.55</td>\n",
       "      <td>782,370.00</td>\n",
       "      <td>2015</td>\n",
       "      <td>5</td>\n",
       "    </tr>\n",
       "    <tr>\n",
       "      <th>78126</th>\n",
       "      <td>2015-06-01</td>\n",
       "      <td>corn</td>\n",
       "      <td>GO</td>\n",
       "      <td>Mexico</td>\n",
       "      <td>Export</td>\n",
       "      <td>Air</td>\n",
       "      <td>0.16</td>\n",
       "      <td>910.00</td>\n",
       "      <td>2015</td>\n",
       "      <td>5</td>\n",
       "    </tr>\n",
       "    <tr>\n",
       "      <th>78127</th>\n",
       "      <td>2015-06-01</td>\n",
       "      <td>corn</td>\n",
       "      <td>GO</td>\n",
       "      <td>United States</td>\n",
       "      <td>Export</td>\n",
       "      <td>Sea</td>\n",
       "      <td>522.49</td>\n",
       "      <td>1,429,481.00</td>\n",
       "      <td>2015</td>\n",
       "      <td>5</td>\n",
       "    </tr>\n",
       "    <tr>\n",
       "      <th>78128</th>\n",
       "      <td>2015-06-01</td>\n",
       "      <td>corn</td>\n",
       "      <td>MG</td>\n",
       "      <td>Guatemala</td>\n",
       "      <td>Export</td>\n",
       "      <td>Sea</td>\n",
       "      <td>19.84</td>\n",
       "      <td>74,237.00</td>\n",
       "      <td>2015</td>\n",
       "      <td>5</td>\n",
       "    </tr>\n",
       "    <tr>\n",
       "      <th>78129</th>\n",
       "      <td>2015-06-01</td>\n",
       "      <td>corn</td>\n",
       "      <td>MS</td>\n",
       "      <td>Taiwan</td>\n",
       "      <td>Export</td>\n",
       "      <td>Sea</td>\n",
       "      <td>62,010.00</td>\n",
       "      <td>10,799,662.00</td>\n",
       "      <td>2015</td>\n",
       "      <td>5</td>\n",
       "    </tr>\n",
       "    <tr>\n",
       "      <th>78130</th>\n",
       "      <td>2015-06-01</td>\n",
       "      <td>corn</td>\n",
       "      <td>MS</td>\n",
       "      <td>Vietnam</td>\n",
       "      <td>Export</td>\n",
       "      <td>Sea</td>\n",
       "      <td>60,470.00</td>\n",
       "      <td>9,675,200.00</td>\n",
       "      <td>2015</td>\n",
       "      <td>5</td>\n",
       "    </tr>\n",
       "    <tr>\n",
       "      <th>78131</th>\n",
       "      <td>2015-06-01</td>\n",
       "      <td>corn</td>\n",
       "      <td>MT</td>\n",
       "      <td>Bolivia</td>\n",
       "      <td>Export</td>\n",
       "      <td>Other</td>\n",
       "      <td>113.50</td>\n",
       "      <td>14,569.00</td>\n",
       "      <td>2015</td>\n",
       "      <td>5</td>\n",
       "    </tr>\n",
       "    <tr>\n",
       "      <th>78132</th>\n",
       "      <td>2015-06-01</td>\n",
       "      <td>corn</td>\n",
       "      <td>MT</td>\n",
       "      <td>Dominican Republic</td>\n",
       "      <td>Export</td>\n",
       "      <td>Sea</td>\n",
       "      <td>77.97</td>\n",
       "      <td>24,821.00</td>\n",
       "      <td>2015</td>\n",
       "      <td>5</td>\n",
       "    </tr>\n",
       "    <tr>\n",
       "      <th>78133</th>\n",
       "      <td>2015-06-01</td>\n",
       "      <td>corn</td>\n",
       "      <td>MT</td>\n",
       "      <td>El Salvador</td>\n",
       "      <td>Export</td>\n",
       "      <td>Sea</td>\n",
       "      <td>49.44</td>\n",
       "      <td>16,823.00</td>\n",
       "      <td>2015</td>\n",
       "      <td>5</td>\n",
       "    </tr>\n",
       "  </tbody>\n",
       "</table>\n",
       "</div>"
      ],
      "text/plain": [
       "            date product state             country    type   route      tons  \\\n",
       "78124 2015-06-01    corn    AC                Peru  Export  Ground     32.00   \n",
       "78125 2015-06-01    corn    GO            Colombia  Export     Sea    308.55   \n",
       "78126 2015-06-01    corn    GO              Mexico  Export     Air      0.16   \n",
       "78127 2015-06-01    corn    GO       United States  Export     Sea    522.49   \n",
       "78128 2015-06-01    corn    MG           Guatemala  Export     Sea     19.84   \n",
       "78129 2015-06-01    corn    MS              Taiwan  Export     Sea 62,010.00   \n",
       "78130 2015-06-01    corn    MS             Vietnam  Export     Sea 60,470.00   \n",
       "78131 2015-06-01    corn    MT             Bolivia  Export   Other    113.50   \n",
       "78132 2015-06-01    corn    MT  Dominican Republic  Export     Sea     77.97   \n",
       "78133 2015-06-01    corn    MT         El Salvador  Export     Sea     49.44   \n",
       "\n",
       "                usd  year  since  \n",
       "78124      8,531.00  2015      5  \n",
       "78125    782,370.00  2015      5  \n",
       "78126        910.00  2015      5  \n",
       "78127  1,429,481.00  2015      5  \n",
       "78128     74,237.00  2015      5  \n",
       "78129 10,799,662.00  2015      5  \n",
       "78130  9,675,200.00  2015      5  \n",
       "78131     14,569.00  2015      5  \n",
       "78132     24,821.00  2015      5  \n",
       "78133     16,823.00  2015      5  "
      ]
     },
     "execution_count": 71,
     "metadata": {},
     "output_type": "execute_result"
    }
   ],
   "source": [
    "exportationd_five_years.head(10)"
   ]
  },
  {
   "cell_type": "markdown",
   "metadata": {},
   "source": [
    "Grupby that each product"
   ]
  },
  {
   "cell_type": "code",
   "execution_count": 72,
   "metadata": {},
   "outputs": [
    {
     "data": {
      "text/html": [
       "<div>\n",
       "<style scoped>\n",
       "    .dataframe tbody tr th:only-of-type {\n",
       "        vertical-align: middle;\n",
       "    }\n",
       "\n",
       "    .dataframe tbody tr th {\n",
       "        vertical-align: top;\n",
       "    }\n",
       "\n",
       "    .dataframe thead tr th {\n",
       "        text-align: left;\n",
       "    }\n",
       "\n",
       "    .dataframe thead tr:last-of-type th {\n",
       "        text-align: right;\n",
       "    }\n",
       "</style>\n",
       "<table border=\"1\" class=\"dataframe\">\n",
       "  <thead>\n",
       "    <tr>\n",
       "      <th></th>\n",
       "      <th colspan=\"8\" halign=\"left\">tons</th>\n",
       "      <th colspan=\"2\" halign=\"left\">usd</th>\n",
       "      <th>...</th>\n",
       "      <th colspan=\"2\" halign=\"left\">year</th>\n",
       "      <th colspan=\"8\" halign=\"left\">since</th>\n",
       "    </tr>\n",
       "    <tr>\n",
       "      <th></th>\n",
       "      <th>count</th>\n",
       "      <th>mean</th>\n",
       "      <th>std</th>\n",
       "      <th>min</th>\n",
       "      <th>25%</th>\n",
       "      <th>50%</th>\n",
       "      <th>75%</th>\n",
       "      <th>max</th>\n",
       "      <th>count</th>\n",
       "      <th>mean</th>\n",
       "      <th>...</th>\n",
       "      <th>75%</th>\n",
       "      <th>max</th>\n",
       "      <th>count</th>\n",
       "      <th>mean</th>\n",
       "      <th>std</th>\n",
       "      <th>min</th>\n",
       "      <th>25%</th>\n",
       "      <th>50%</th>\n",
       "      <th>75%</th>\n",
       "      <th>max</th>\n",
       "    </tr>\n",
       "    <tr>\n",
       "      <th>product</th>\n",
       "      <th></th>\n",
       "      <th></th>\n",
       "      <th></th>\n",
       "      <th></th>\n",
       "      <th></th>\n",
       "      <th></th>\n",
       "      <th></th>\n",
       "      <th></th>\n",
       "      <th></th>\n",
       "      <th></th>\n",
       "      <th></th>\n",
       "      <th></th>\n",
       "      <th></th>\n",
       "      <th></th>\n",
       "      <th></th>\n",
       "      <th></th>\n",
       "      <th></th>\n",
       "      <th></th>\n",
       "      <th></th>\n",
       "      <th></th>\n",
       "      <th></th>\n",
       "    </tr>\n",
       "  </thead>\n",
       "  <tbody>\n",
       "    <tr>\n",
       "      <th>corn</th>\n",
       "      <td>7,313.00</td>\n",
       "      <td>19,065.10</td>\n",
       "      <td>44,858.95</td>\n",
       "      <td>0.00</td>\n",
       "      <td>99.19</td>\n",
       "      <td>2,600.00</td>\n",
       "      <td>20,000.00</td>\n",
       "      <td>783,193.52</td>\n",
       "      <td>7,313.00</td>\n",
       "      <td>3,205,692.67</td>\n",
       "      <td>...</td>\n",
       "      <td>2,019.00</td>\n",
       "      <td>2,019.00</td>\n",
       "      <td>7,313.00</td>\n",
       "      <td>2.99</td>\n",
       "      <td>1.50</td>\n",
       "      <td>1.00</td>\n",
       "      <td>2.00</td>\n",
       "      <td>3.00</td>\n",
       "      <td>5.00</td>\n",
       "      <td>5.00</td>\n",
       "    </tr>\n",
       "    <tr>\n",
       "      <th>soybean_meal</th>\n",
       "      <td>4,762.00</td>\n",
       "      <td>14,895.81</td>\n",
       "      <td>24,433.45</td>\n",
       "      <td>0.00</td>\n",
       "      <td>421.28</td>\n",
       "      <td>4,438.34</td>\n",
       "      <td>18,870.37</td>\n",
       "      <td>220,879.03</td>\n",
       "      <td>4,762.00</td>\n",
       "      <td>5,470,972.51</td>\n",
       "      <td>...</td>\n",
       "      <td>2,018.00</td>\n",
       "      <td>2,019.00</td>\n",
       "      <td>4,762.00</td>\n",
       "      <td>3.11</td>\n",
       "      <td>1.38</td>\n",
       "      <td>1.00</td>\n",
       "      <td>2.00</td>\n",
       "      <td>3.00</td>\n",
       "      <td>4.00</td>\n",
       "      <td>5.00</td>\n",
       "    </tr>\n",
       "    <tr>\n",
       "      <th>soybean_oil</th>\n",
       "      <td>4,345.00</td>\n",
       "      <td>1,421.58</td>\n",
       "      <td>5,134.08</td>\n",
       "      <td>0.00</td>\n",
       "      <td>0.09</td>\n",
       "      <td>26.70</td>\n",
       "      <td>275.59</td>\n",
       "      <td>75,104.71</td>\n",
       "      <td>4,345.00</td>\n",
       "      <td>1,013,435.55</td>\n",
       "      <td>...</td>\n",
       "      <td>2,019.00</td>\n",
       "      <td>2,019.00</td>\n",
       "      <td>4,345.00</td>\n",
       "      <td>2.64</td>\n",
       "      <td>1.38</td>\n",
       "      <td>1.00</td>\n",
       "      <td>2.00</td>\n",
       "      <td>2.00</td>\n",
       "      <td>4.00</td>\n",
       "      <td>5.00</td>\n",
       "    </tr>\n",
       "    <tr>\n",
       "      <th>soybeans</th>\n",
       "      <td>6,666.00</td>\n",
       "      <td>45,591.68</td>\n",
       "      <td>139,525.12</td>\n",
       "      <td>0.00</td>\n",
       "      <td>1,683.59</td>\n",
       "      <td>9,777.37</td>\n",
       "      <td>32,385.31</td>\n",
       "      <td>1,798,445.65</td>\n",
       "      <td>6,666.00</td>\n",
       "      <td>17,190,728.75</td>\n",
       "      <td>...</td>\n",
       "      <td>2,019.00</td>\n",
       "      <td>2,019.00</td>\n",
       "      <td>6,666.00</td>\n",
       "      <td>3.05</td>\n",
       "      <td>1.36</td>\n",
       "      <td>1.00</td>\n",
       "      <td>2.00</td>\n",
       "      <td>3.00</td>\n",
       "      <td>4.00</td>\n",
       "      <td>5.00</td>\n",
       "    </tr>\n",
       "    <tr>\n",
       "      <th>sugar</th>\n",
       "      <td>12,788.00</td>\n",
       "      <td>8,747.66</td>\n",
       "      <td>23,771.04</td>\n",
       "      <td>0.00</td>\n",
       "      <td>20.00</td>\n",
       "      <td>570.37</td>\n",
       "      <td>5,533.41</td>\n",
       "      <td>405,903.69</td>\n",
       "      <td>12,788.00</td>\n",
       "      <td>2,978,596.84</td>\n",
       "      <td>...</td>\n",
       "      <td>2,019.00</td>\n",
       "      <td>2,019.00</td>\n",
       "      <td>12,788.00</td>\n",
       "      <td>2.96</td>\n",
       "      <td>1.39</td>\n",
       "      <td>1.00</td>\n",
       "      <td>2.00</td>\n",
       "      <td>3.00</td>\n",
       "      <td>4.00</td>\n",
       "      <td>5.00</td>\n",
       "    </tr>\n",
       "    <tr>\n",
       "      <th>wheat</th>\n",
       "      <td>309.00</td>\n",
       "      <td>7,936.68</td>\n",
       "      <td>23,393.72</td>\n",
       "      <td>0.00</td>\n",
       "      <td>0.12</td>\n",
       "      <td>0.60</td>\n",
       "      <td>4.00</td>\n",
       "      <td>183,002.14</td>\n",
       "      <td>309.00</td>\n",
       "      <td>1,391,306.94</td>\n",
       "      <td>...</td>\n",
       "      <td>2,019.00</td>\n",
       "      <td>2,019.00</td>\n",
       "      <td>309.00</td>\n",
       "      <td>2.97</td>\n",
       "      <td>1.43</td>\n",
       "      <td>1.00</td>\n",
       "      <td>2.00</td>\n",
       "      <td>3.00</td>\n",
       "      <td>4.00</td>\n",
       "      <td>5.00</td>\n",
       "    </tr>\n",
       "  </tbody>\n",
       "</table>\n",
       "<p>6 rows × 32 columns</p>\n",
       "</div>"
      ],
      "text/plain": [
       "                  tons                                                        \\\n",
       "                 count      mean        std  min      25%      50%       75%   \n",
       "product                                                                        \n",
       "corn          7,313.00 19,065.10  44,858.95 0.00    99.19 2,600.00 20,000.00   \n",
       "soybean_meal  4,762.00 14,895.81  24,433.45 0.00   421.28 4,438.34 18,870.37   \n",
       "soybean_oil   4,345.00  1,421.58   5,134.08 0.00     0.09    26.70    275.59   \n",
       "soybeans      6,666.00 45,591.68 139,525.12 0.00 1,683.59 9,777.37 32,385.31   \n",
       "sugar        12,788.00  8,747.66  23,771.04 0.00    20.00   570.37  5,533.41   \n",
       "wheat           309.00  7,936.68  23,393.72 0.00     0.12     0.60      4.00   \n",
       "\n",
       "                                usd                ...     year           \\\n",
       "                      max     count          mean  ...      75%      max   \n",
       "product                                            ...                     \n",
       "corn           783,193.52  7,313.00  3,205,692.67  ... 2,019.00 2,019.00   \n",
       "soybean_meal   220,879.03  4,762.00  5,470,972.51  ... 2,018.00 2,019.00   \n",
       "soybean_oil     75,104.71  4,345.00  1,013,435.55  ... 2,019.00 2,019.00   \n",
       "soybeans     1,798,445.65  6,666.00 17,190,728.75  ... 2,019.00 2,019.00   \n",
       "sugar          405,903.69 12,788.00  2,978,596.84  ... 2,019.00 2,019.00   \n",
       "wheat          183,002.14    309.00  1,391,306.94  ... 2,019.00 2,019.00   \n",
       "\n",
       "                 since                                     \n",
       "                 count mean  std  min  25%  50%  75%  max  \n",
       "product                                                    \n",
       "corn          7,313.00 2.99 1.50 1.00 2.00 3.00 5.00 5.00  \n",
       "soybean_meal  4,762.00 3.11 1.38 1.00 2.00 3.00 4.00 5.00  \n",
       "soybean_oil   4,345.00 2.64 1.38 1.00 2.00 2.00 4.00 5.00  \n",
       "soybeans      6,666.00 3.05 1.36 1.00 2.00 3.00 4.00 5.00  \n",
       "sugar        12,788.00 2.96 1.39 1.00 2.00 3.00 4.00 5.00  \n",
       "wheat           309.00 2.97 1.43 1.00 2.00 3.00 4.00 5.00  \n",
       "\n",
       "[6 rows x 32 columns]"
      ]
     },
     "execution_count": 72,
     "metadata": {},
     "output_type": "execute_result"
    }
   ],
   "source": [
    "exportationd_five_years.groupby(\"product\").describe()"
   ]
  },
  {
   "cell_type": "code",
   "execution_count": 73,
   "metadata": {},
   "outputs": [
    {
     "data": {
      "image/png": "[encoded data removed]",
      "text/plain": [
       "<Figure size 1080x504 with 1 Axes>"
      ]
     },
     "metadata": {
      "needs_background": "light"
     },
     "output_type": "display_data"
    }
   ],
   "source": [
    "exportationd_five_years.groupby('product').sum()['usd'].plot.bar(figsize=(15,7));"
   ]
  },
  {
   "cell_type": "markdown",
   "metadata": {},
   "source": [
    "we can observ that the biggest exportartion in value is soilbean whith second place for sugar "
   ]
  },
  {
   "cell_type": "code",
   "execution_count": 74,
   "metadata": {},
   "outputs": [
    {
     "data": {
      "image/png": "[encoded data removed]",
      "text/plain": [
       "<Figure size 1080x504 with 1 Axes>"
      ]
     },
     "metadata": {
      "needs_background": "light"
     },
     "output_type": "display_data"
    }
   ],
   "source": [
    "exportationd_five_years.groupby('product').sum()['tons'].plot.bar(figsize=(15,7));"
   ]
  },
  {
   "cell_type": "markdown",
   "metadata": {},
   "source": [
    "Wen we look in volum, the soybean is the first too, but corn is the seccond, it suggests that the value \"pago\" is about corn is less than soy meal "
   ]
  },
  {
   "cell_type": "code",
   "execution_count": 75,
   "metadata": {},
   "outputs": [
    {
     "data": {
      "text/plain": [
       "<matplotlib.axes._subplots.AxesSubplot at 0x1d01dd12708>"
      ]
     },
     "execution_count": 75,
     "metadata": {},
     "output_type": "execute_result"
    },
    {
     "data": {
      "image/png": "[encoded data removed]",
      "text/plain": [
       "<Figure size 1080x504 with 1 Axes>"
      ]
     },
     "metadata": {
      "needs_background": "light"
     },
     "output_type": "display_data"
    }
   ],
   "source": [
    "fig, ax = plt.subplots(figsize=(15,7))\n",
    "\n",
    "exportationd_five_years.groupby(['year','product']).sum()['usd'].unstack().plot(ax=ax)"
   ]
  },
  {
   "cell_type": "code",
   "execution_count": 76,
   "metadata": {},
   "outputs": [
    {
     "data": {
      "text/plain": [
       "<matplotlib.axes._subplots.AxesSubplot at 0x1d01deee808>"
      ]
     },
     "execution_count": 76,
     "metadata": {},
     "output_type": "execute_result"
    },
    {
     "data": {
      "image/png": "[encoded data removed]",
      "text/plain": [
       "<Figure size 1080x504 with 1 Axes>"
      ]
     },
     "metadata": {
      "needs_background": "light"
     },
     "output_type": "display_data"
    }
   ],
   "source": [
    "fig, ax = plt.subplots(figsize=(15,7))\n",
    "\n",
    "exportationd_five_years.groupby(['year','product']).sum()['tons'].unstack().plot(ax=ax)"
   ]
  },
  {
   "cell_type": "markdown",
   "metadata": {},
   "source": [
    "oberva a queda de volume da soja mas o valor não desce.... isso indica lucratividade o mesmo não ocorre com o milho.... as outras culturas segue estáveis \n"
   ]
  },
  {
   "cell_type": "markdown",
   "metadata": {},
   "source": [
    "2 - "
   ]
  },
  {
   "cell_type": "code",
   "execution_count": 77,
   "metadata": {},
   "outputs": [],
   "source": [
    "exportationd_five_years_soy_corn = df[(df['type']=='Export') & (df['since']<=5)]\n",
    "exportationd_five_years_soy_corn = exportationd_five_years_soy_corn[(exportationd_five_years_soy_corn['product']=='corn') | (exportationd_five_years_soy_corn['product']=='soybeans')]\n"
   ]
  },
  {
   "cell_type": "code",
   "execution_count": 78,
   "metadata": {},
   "outputs": [
    {
     "data": {
      "text/html": [
       "<div>\n",
       "<style scoped>\n",
       "    .dataframe tbody tr th:only-of-type {\n",
       "        vertical-align: middle;\n",
       "    }\n",
       "\n",
       "    .dataframe tbody tr th {\n",
       "        vertical-align: top;\n",
       "    }\n",
       "\n",
       "    .dataframe thead th {\n",
       "        text-align: right;\n",
       "    }\n",
       "</style>\n",
       "<table border=\"1\" class=\"dataframe\">\n",
       "  <thead>\n",
       "    <tr style=\"text-align: right;\">\n",
       "      <th></th>\n",
       "      <th>date</th>\n",
       "      <th>product</th>\n",
       "      <th>state</th>\n",
       "      <th>country</th>\n",
       "      <th>type</th>\n",
       "      <th>route</th>\n",
       "      <th>tons</th>\n",
       "      <th>usd</th>\n",
       "      <th>year</th>\n",
       "      <th>since</th>\n",
       "    </tr>\n",
       "  </thead>\n",
       "  <tbody>\n",
       "    <tr>\n",
       "      <th>78124</th>\n",
       "      <td>2015-06-01</td>\n",
       "      <td>corn</td>\n",
       "      <td>AC</td>\n",
       "      <td>Peru</td>\n",
       "      <td>Export</td>\n",
       "      <td>Ground</td>\n",
       "      <td>32.00</td>\n",
       "      <td>8,531.00</td>\n",
       "      <td>2015</td>\n",
       "      <td>5</td>\n",
       "    </tr>\n",
       "    <tr>\n",
       "      <th>78125</th>\n",
       "      <td>2015-06-01</td>\n",
       "      <td>corn</td>\n",
       "      <td>GO</td>\n",
       "      <td>Colombia</td>\n",
       "      <td>Export</td>\n",
       "      <td>Sea</td>\n",
       "      <td>308.55</td>\n",
       "      <td>782,370.00</td>\n",
       "      <td>2015</td>\n",
       "      <td>5</td>\n",
       "    </tr>\n",
       "    <tr>\n",
       "      <th>78126</th>\n",
       "      <td>2015-06-01</td>\n",
       "      <td>corn</td>\n",
       "      <td>GO</td>\n",
       "      <td>Mexico</td>\n",
       "      <td>Export</td>\n",
       "      <td>Air</td>\n",
       "      <td>0.16</td>\n",
       "      <td>910.00</td>\n",
       "      <td>2015</td>\n",
       "      <td>5</td>\n",
       "    </tr>\n",
       "    <tr>\n",
       "      <th>78127</th>\n",
       "      <td>2015-06-01</td>\n",
       "      <td>corn</td>\n",
       "      <td>GO</td>\n",
       "      <td>United States</td>\n",
       "      <td>Export</td>\n",
       "      <td>Sea</td>\n",
       "      <td>522.49</td>\n",
       "      <td>1,429,481.00</td>\n",
       "      <td>2015</td>\n",
       "      <td>5</td>\n",
       "    </tr>\n",
       "    <tr>\n",
       "      <th>78128</th>\n",
       "      <td>2015-06-01</td>\n",
       "      <td>corn</td>\n",
       "      <td>MG</td>\n",
       "      <td>Guatemala</td>\n",
       "      <td>Export</td>\n",
       "      <td>Sea</td>\n",
       "      <td>19.84</td>\n",
       "      <td>74,237.00</td>\n",
       "      <td>2015</td>\n",
       "      <td>5</td>\n",
       "    </tr>\n",
       "    <tr>\n",
       "      <th>...</th>\n",
       "      <td>...</td>\n",
       "      <td>...</td>\n",
       "      <td>...</td>\n",
       "      <td>...</td>\n",
       "      <td>...</td>\n",
       "      <td>...</td>\n",
       "      <td>...</td>\n",
       "      <td>...</td>\n",
       "      <td>...</td>\n",
       "      <td>...</td>\n",
       "    </tr>\n",
       "    <tr>\n",
       "      <th>117584</th>\n",
       "      <td>2019-12-01</td>\n",
       "      <td>soybeans</td>\n",
       "      <td>SP</td>\n",
       "      <td>Liberia</td>\n",
       "      <td>Export</td>\n",
       "      <td>Other</td>\n",
       "      <td>0.00</td>\n",
       "      <td>11.00</td>\n",
       "      <td>2019</td>\n",
       "      <td>1</td>\n",
       "    </tr>\n",
       "    <tr>\n",
       "      <th>117585</th>\n",
       "      <td>2019-12-01</td>\n",
       "      <td>soybeans</td>\n",
       "      <td>SP</td>\n",
       "      <td>Liberia</td>\n",
       "      <td>Export</td>\n",
       "      <td>Other</td>\n",
       "      <td>0.01</td>\n",
       "      <td>30.00</td>\n",
       "      <td>2019</td>\n",
       "      <td>1</td>\n",
       "    </tr>\n",
       "    <tr>\n",
       "      <th>117586</th>\n",
       "      <td>2019-12-01</td>\n",
       "      <td>soybeans</td>\n",
       "      <td>SP</td>\n",
       "      <td>Thailand</td>\n",
       "      <td>Export</td>\n",
       "      <td>Sea</td>\n",
       "      <td>146.50</td>\n",
       "      <td>52,813.00</td>\n",
       "      <td>2019</td>\n",
       "      <td>1</td>\n",
       "    </tr>\n",
       "    <tr>\n",
       "      <th>117587</th>\n",
       "      <td>2019-12-01</td>\n",
       "      <td>soybeans</td>\n",
       "      <td>TO</td>\n",
       "      <td>China</td>\n",
       "      <td>Export</td>\n",
       "      <td>Sea</td>\n",
       "      <td>63,731.48</td>\n",
       "      <td>22,986,541.00</td>\n",
       "      <td>2019</td>\n",
       "      <td>1</td>\n",
       "    </tr>\n",
       "    <tr>\n",
       "      <th>117588</th>\n",
       "      <td>2019-12-01</td>\n",
       "      <td>soybeans</td>\n",
       "      <td>TO</td>\n",
       "      <td>Japan</td>\n",
       "      <td>Export</td>\n",
       "      <td>Sea</td>\n",
       "      <td>4,068.46</td>\n",
       "      <td>1,418,269.00</td>\n",
       "      <td>2019</td>\n",
       "      <td>1</td>\n",
       "    </tr>\n",
       "  </tbody>\n",
       "</table>\n",
       "<p>13979 rows × 10 columns</p>\n",
       "</div>"
      ],
      "text/plain": [
       "             date   product state        country    type   route      tons  \\\n",
       "78124  2015-06-01      corn    AC           Peru  Export  Ground     32.00   \n",
       "78125  2015-06-01      corn    GO       Colombia  Export     Sea    308.55   \n",
       "78126  2015-06-01      corn    GO         Mexico  Export     Air      0.16   \n",
       "78127  2015-06-01      corn    GO  United States  Export     Sea    522.49   \n",
       "78128  2015-06-01      corn    MG      Guatemala  Export     Sea     19.84   \n",
       "...           ...       ...   ...            ...     ...     ...       ...   \n",
       "117584 2019-12-01  soybeans    SP        Liberia  Export   Other      0.00   \n",
       "117585 2019-12-01  soybeans    SP        Liberia  Export   Other      0.01   \n",
       "117586 2019-12-01  soybeans    SP       Thailand  Export     Sea    146.50   \n",
       "117587 2019-12-01  soybeans    TO          China  Export     Sea 63,731.48   \n",
       "117588 2019-12-01  soybeans    TO          Japan  Export     Sea  4,068.46   \n",
       "\n",
       "                 usd  year  since  \n",
       "78124       8,531.00  2015      5  \n",
       "78125     782,370.00  2015      5  \n",
       "78126         910.00  2015      5  \n",
       "78127   1,429,481.00  2015      5  \n",
       "78128      74,237.00  2015      5  \n",
       "...              ...   ...    ...  \n",
       "117584         11.00  2019      1  \n",
       "117585         30.00  2019      1  \n",
       "117586     52,813.00  2019      1  \n",
       "117587 22,986,541.00  2019      1  \n",
       "117588  1,418,269.00  2019      1  \n",
       "\n",
       "[13979 rows x 10 columns]"
      ]
     },
     "execution_count": 78,
     "metadata": {},
     "output_type": "execute_result"
    }
   ],
   "source": [
    "exportationd_five_years_soy_corn"
   ]
  },
  {
   "cell_type": "code",
   "execution_count": 86,
   "metadata": {},
   "outputs": [
    {
     "data": {
      "image/png": "[encoded data removed]",
      "text/plain": [
       "<Figure size 1080x504 with 1 Axes>"
      ]
     },
     "metadata": {
      "needs_background": "light"
     },
     "output_type": "display_data"
    }
   ],
   "source": [
    "exportationd_five_years_soy_corn.groupby([\"state\",\"product\"]).sum()['tons'].unstack().plot.bar(figsize=(15,7));"
   ]
  },
  {
   "cell_type": "markdown",
   "metadata": {},
   "source": [
    "balbalbla, estado que mais produz"
   ]
  },
  {
   "cell_type": "code",
   "execution_count": 29,
   "metadata": {},
   "outputs": [],
   "source": [
    "exportationd_five_years_soy= exportationd_five_years_soy_corn[exportationd_five_years_soy_corn['product']=='soybeans']"
   ]
  },
  {
   "cell_type": "code",
   "execution_count": 93,
   "metadata": {},
   "outputs": [
    {
     "data": {
      "image/png": "[encoded data removed]",
      "text/plain": [
       "<Figure size 1080x504 with 1 Axes>"
      ]
     },
     "metadata": {},
     "output_type": "display_data"
    }
   ],
   "source": [
    "exportationd_five_years_soy.groupby(['country']).sum()['tons'].sort_values(ascending=False).head(10).plot.pie(figsize=(15,7),autopct=\"%.2f\");"
   ]
  },
  {
   "cell_type": "markdown",
   "metadata": {},
   "source": [
    "blablabla, china...."
   ]
  },
  {
   "cell_type": "code",
   "execution_count": 121,
   "metadata": {},
   "outputs": [
    {
     "data": {
      "text/plain": [
       "country      year\n",
       "China        2018   67,547,214.21\n",
       "             2019   54,411,695.23\n",
       "             2017   53,733,446.81\n",
       "             2016   38,563,909.13\n",
       "             2015   23,897,292.37\n",
       "Spain        2019    2,182,822.98\n",
       "             2017    2,016,854.28\n",
       "             2018    1,889,039.45\n",
       "Thailand     2019    1,653,241.70\n",
       "             2017    1,652,845.82\n",
       "Netherlands  2019    1,622,188.20\n",
       "Spain        2016    1,621,691.01\n",
       "Thailand     2016    1,531,615.99\n",
       "Iran         2019    1,525,906.51\n",
       "Netherlands  2017    1,517,003.82\n",
       "             2016    1,490,261.46\n",
       "Spain        2015    1,399,456.59\n",
       "Netherlands  2018    1,305,698.16\n",
       "Turkey       2019    1,299,684.77\n",
       "Iran         2018    1,297,633.87\n",
       "Name: tons, dtype: float64"
      ]
     },
     "execution_count": 121,
     "metadata": {},
     "output_type": "execute_result"
    }
   ],
   "source": [
    "exportationd_five_years_soy.groupby(['country','year']).sum()['tons'].sort_values(ascending=False).head(20)"
   ]
  },
  {
   "cell_type": "code",
   "execution_count": null,
   "metadata": {},
   "outputs": [],
   "source": [
    "exportationd_five_years_soy.groupby(['country','year']).sum()['tons'].unstack('country').plot(kind='line',figsize=(15,7))"
   ]
  },
  {
   "cell_type": "code",
   "execution_count": 172,
   "metadata": {},
   "outputs": [],
   "source": [
    "exportationd_five_years_soy_top = exportationd_five_years_soy.groupby(['country','year']).sum()['tons'].sort_values(ascending=False).iloc[5:].head(50)"
   ]
  },
  {
   "cell_type": "code",
   "execution_count": 130,
   "metadata": {
    "scrolled": true
   },
   "outputs": [
    {
     "data": {
      "text/plain": [
       "<matplotlib.axes._subplots.AxesSubplot at 0x1d03be45308>"
      ]
     },
     "execution_count": 130,
     "metadata": {},
     "output_type": "execute_result"
    },
    {
     "data": {
      "image/png": "[encoded data removed]",
      "text/plain": [
       "<Figure size 1080x504 with 1 Axes>"
      ]
     },
     "metadata": {
      "needs_background": "light"
     },
     "output_type": "display_data"
    }
   ],
   "source": [
    "#fig, ax = plt.subplots(figsize=(15,7))\n",
    "\n",
    "\n",
    "exportationd_five_years_soy_top.unstack('country').plot(kind='line',figsize=(15,7))"
   ]
  },
  {
   "cell_type": "markdown",
   "metadata": {},
   "source": [
    "blablabla, paises com potencial de crescimento"
   ]
  },
  {
   "cell_type": "code",
   "execution_count": 132,
   "metadata": {},
   "outputs": [
    {
     "data": {
      "text/plain": [
       "route\n",
       "Air               50.67\n",
       "Ground        97,810.74\n",
       "Other      1,519,020.84\n",
       "River      7,898,369.68\n",
       "Sea      294,398,894.64\n",
       "Name: tons, dtype: float64"
      ]
     },
     "execution_count": 132,
     "metadata": {},
     "output_type": "execute_result"
    }
   ],
   "source": [
    "exportationd_five_years_soy.groupby(['route']).sum()['tons']"
   ]
  },
  {
   "cell_type": "markdown",
   "metadata": {},
   "source": [
    "conclusão obvia...."
   ]
  },
  {
   "cell_type": "markdown",
   "metadata": {},
   "source": [
    "adicionar cruzamento da população VS tamanho do mercado"
   ]
  },
  {
   "cell_type": "code",
   "execution_count": 411,
   "metadata": {},
   "outputs": [],
   "source": [
    "df_countries_pop = pd.read_csv('API_SP_POP_TOTL_DS2_en_csv_v2_2252106.csv',sep = ',')"
   ]
  },
  {
   "cell_type": "code",
   "execution_count": 412,
   "metadata": {},
   "outputs": [],
   "source": [
    "df_countries_pop = df_countries_pop[['Country Name','2015','2016','2017','2018','2019']]"
   ]
  },
  {
   "cell_type": "code",
   "execution_count": 413,
   "metadata": {},
   "outputs": [
    {
     "data": {
      "text/html": [
       "<div>\n",
       "<style scoped>\n",
       "    .dataframe tbody tr th:only-of-type {\n",
       "        vertical-align: middle;\n",
       "    }\n",
       "\n",
       "    .dataframe tbody tr th {\n",
       "        vertical-align: top;\n",
       "    }\n",
       "\n",
       "    .dataframe thead th {\n",
       "        text-align: right;\n",
       "    }\n",
       "</style>\n",
       "<table border=\"1\" class=\"dataframe\">\n",
       "  <thead>\n",
       "    <tr style=\"text-align: right;\">\n",
       "      <th></th>\n",
       "      <th>Country Name</th>\n",
       "      <th>2015</th>\n",
       "      <th>2016</th>\n",
       "      <th>2017</th>\n",
       "      <th>2018</th>\n",
       "      <th>2019</th>\n",
       "    </tr>\n",
       "  </thead>\n",
       "  <tbody>\n",
       "    <tr>\n",
       "      <th>0</th>\n",
       "      <td>Aruba</td>\n",
       "      <td>104,341.00</td>\n",
       "      <td>104,872.00</td>\n",
       "      <td>105,366.00</td>\n",
       "      <td>105,845.00</td>\n",
       "      <td>106,314.00</td>\n",
       "    </tr>\n",
       "    <tr>\n",
       "      <th>1</th>\n",
       "      <td>Afghanistan</td>\n",
       "      <td>34,413,603.00</td>\n",
       "      <td>35,383,128.00</td>\n",
       "      <td>36,296,400.00</td>\n",
       "      <td>37,172,386.00</td>\n",
       "      <td>38,041,754.00</td>\n",
       "    </tr>\n",
       "    <tr>\n",
       "      <th>2</th>\n",
       "      <td>Angola</td>\n",
       "      <td>27,884,381.00</td>\n",
       "      <td>28,842,484.00</td>\n",
       "      <td>29,816,748.00</td>\n",
       "      <td>30,809,762.00</td>\n",
       "      <td>31,825,295.00</td>\n",
       "    </tr>\n",
       "    <tr>\n",
       "      <th>3</th>\n",
       "      <td>Albania</td>\n",
       "      <td>2,880,703.00</td>\n",
       "      <td>2,876,101.00</td>\n",
       "      <td>2,873,457.00</td>\n",
       "      <td>2,866,376.00</td>\n",
       "      <td>2,854,191.00</td>\n",
       "    </tr>\n",
       "    <tr>\n",
       "      <th>4</th>\n",
       "      <td>Andorra</td>\n",
       "      <td>78,011.00</td>\n",
       "      <td>77,297.00</td>\n",
       "      <td>77,001.00</td>\n",
       "      <td>77,006.00</td>\n",
       "      <td>77,142.00</td>\n",
       "    </tr>\n",
       "    <tr>\n",
       "      <th>...</th>\n",
       "      <td>...</td>\n",
       "      <td>...</td>\n",
       "      <td>...</td>\n",
       "      <td>...</td>\n",
       "      <td>...</td>\n",
       "      <td>...</td>\n",
       "    </tr>\n",
       "    <tr>\n",
       "      <th>259</th>\n",
       "      <td>Kosovo</td>\n",
       "      <td>1,788,196.00</td>\n",
       "      <td>1,777,557.00</td>\n",
       "      <td>1,791,003.00</td>\n",
       "      <td>1,797,085.00</td>\n",
       "      <td>1,794,248.00</td>\n",
       "    </tr>\n",
       "    <tr>\n",
       "      <th>260</th>\n",
       "      <td>Yemen, Rep.</td>\n",
       "      <td>26,497,889.00</td>\n",
       "      <td>27,168,210.00</td>\n",
       "      <td>27,834,821.00</td>\n",
       "      <td>28,498,687.00</td>\n",
       "      <td>29,161,922.00</td>\n",
       "    </tr>\n",
       "    <tr>\n",
       "      <th>261</th>\n",
       "      <td>South Africa</td>\n",
       "      <td>55,386,367.00</td>\n",
       "      <td>56,203,654.00</td>\n",
       "      <td>57,000,451.00</td>\n",
       "      <td>57,779,622.00</td>\n",
       "      <td>58,558,270.00</td>\n",
       "    </tr>\n",
       "    <tr>\n",
       "      <th>262</th>\n",
       "      <td>Zambia</td>\n",
       "      <td>15,879,361.00</td>\n",
       "      <td>16,363,507.00</td>\n",
       "      <td>16,853,688.00</td>\n",
       "      <td>17,351,822.00</td>\n",
       "      <td>17,861,030.00</td>\n",
       "    </tr>\n",
       "    <tr>\n",
       "      <th>263</th>\n",
       "      <td>Zimbabwe</td>\n",
       "      <td>13,814,629.00</td>\n",
       "      <td>14,030,390.00</td>\n",
       "      <td>14,236,745.00</td>\n",
       "      <td>14,439,018.00</td>\n",
       "      <td>14,645,468.00</td>\n",
       "    </tr>\n",
       "  </tbody>\n",
       "</table>\n",
       "<p>264 rows × 6 columns</p>\n",
       "</div>"
      ],
      "text/plain": [
       "     Country Name          2015          2016          2017          2018  \\\n",
       "0           Aruba    104,341.00    104,872.00    105,366.00    105,845.00   \n",
       "1     Afghanistan 34,413,603.00 35,383,128.00 36,296,400.00 37,172,386.00   \n",
       "2          Angola 27,884,381.00 28,842,484.00 29,816,748.00 30,809,762.00   \n",
       "3         Albania  2,880,703.00  2,876,101.00  2,873,457.00  2,866,376.00   \n",
       "4         Andorra     78,011.00     77,297.00     77,001.00     77,006.00   \n",
       "..            ...           ...           ...           ...           ...   \n",
       "259        Kosovo  1,788,196.00  1,777,557.00  1,791,003.00  1,797,085.00   \n",
       "260   Yemen, Rep. 26,497,889.00 27,168,210.00 27,834,821.00 28,498,687.00   \n",
       "261  South Africa 55,386,367.00 56,203,654.00 57,000,451.00 57,779,622.00   \n",
       "262        Zambia 15,879,361.00 16,363,507.00 16,853,688.00 17,351,822.00   \n",
       "263      Zimbabwe 13,814,629.00 14,030,390.00 14,236,745.00 14,439,018.00   \n",
       "\n",
       "             2019  \n",
       "0      106,314.00  \n",
       "1   38,041,754.00  \n",
       "2   31,825,295.00  \n",
       "3    2,854,191.00  \n",
       "4       77,142.00  \n",
       "..            ...  \n",
       "259  1,794,248.00  \n",
       "260 29,161,922.00  \n",
       "261 58,558,270.00  \n",
       "262 17,861,030.00  \n",
       "263 14,645,468.00  \n",
       "\n",
       "[264 rows x 6 columns]"
      ]
     },
     "execution_count": 413,
     "metadata": {},
     "output_type": "execute_result"
    }
   ],
   "source": [
    "df_countries_pop"
   ]
  },
  {
   "cell_type": "code",
   "execution_count": 414,
   "metadata": {},
   "outputs": [],
   "source": [
    "exportationd_five_years_soy=exportationd_five_years_soy.groupby(['country','year']).sum()['tons'].sort_values(ascending=False).head(20).to_frame()"
   ]
  },
  {
   "cell_type": "code",
   "execution_count": 415,
   "metadata": {},
   "outputs": [],
   "source": [
    "exportationd_five_years_soy['pop'] = 0"
   ]
  },
  {
   "cell_type": "code",
   "execution_count": 416,
   "metadata": {},
   "outputs": [
    {
     "data": {
      "text/plain": [
       "FrozenList(['country', 'year'])"
      ]
     },
     "execution_count": 416,
     "metadata": {},
     "output_type": "execute_result"
    }
   ],
   "source": [
    "exportationd_five_years_soy.index.names"
   ]
  },
  {
   "cell_type": "code",
   "execution_count": 417,
   "metadata": {},
   "outputs": [
    {
     "data": {
      "text/html": [
       "<div>\n",
       "<style scoped>\n",
       "    .dataframe tbody tr th:only-of-type {\n",
       "        vertical-align: middle;\n",
       "    }\n",
       "\n",
       "    .dataframe tbody tr th {\n",
       "        vertical-align: top;\n",
       "    }\n",
       "\n",
       "    .dataframe thead th {\n",
       "        text-align: right;\n",
       "    }\n",
       "</style>\n",
       "<table border=\"1\" class=\"dataframe\">\n",
       "  <thead>\n",
       "    <tr style=\"text-align: right;\">\n",
       "      <th></th>\n",
       "      <th>country</th>\n",
       "      <th>year</th>\n",
       "      <th>tons</th>\n",
       "      <th>pop</th>\n",
       "    </tr>\n",
       "  </thead>\n",
       "  <tbody>\n",
       "    <tr>\n",
       "      <th>0</th>\n",
       "      <td>China</td>\n",
       "      <td>2018</td>\n",
       "      <td>67,547,214.21</td>\n",
       "      <td>0</td>\n",
       "    </tr>\n",
       "    <tr>\n",
       "      <th>1</th>\n",
       "      <td>China</td>\n",
       "      <td>2019</td>\n",
       "      <td>54,411,695.23</td>\n",
       "      <td>0</td>\n",
       "    </tr>\n",
       "    <tr>\n",
       "      <th>2</th>\n",
       "      <td>China</td>\n",
       "      <td>2017</td>\n",
       "      <td>53,733,446.81</td>\n",
       "      <td>0</td>\n",
       "    </tr>\n",
       "    <tr>\n",
       "      <th>3</th>\n",
       "      <td>China</td>\n",
       "      <td>2016</td>\n",
       "      <td>38,563,909.13</td>\n",
       "      <td>0</td>\n",
       "    </tr>\n",
       "    <tr>\n",
       "      <th>4</th>\n",
       "      <td>China</td>\n",
       "      <td>2015</td>\n",
       "      <td>23,897,292.37</td>\n",
       "      <td>0</td>\n",
       "    </tr>\n",
       "    <tr>\n",
       "      <th>5</th>\n",
       "      <td>Spain</td>\n",
       "      <td>2019</td>\n",
       "      <td>2,182,822.98</td>\n",
       "      <td>0</td>\n",
       "    </tr>\n",
       "    <tr>\n",
       "      <th>6</th>\n",
       "      <td>Spain</td>\n",
       "      <td>2017</td>\n",
       "      <td>2,016,854.28</td>\n",
       "      <td>0</td>\n",
       "    </tr>\n",
       "    <tr>\n",
       "      <th>7</th>\n",
       "      <td>Spain</td>\n",
       "      <td>2018</td>\n",
       "      <td>1,889,039.45</td>\n",
       "      <td>0</td>\n",
       "    </tr>\n",
       "    <tr>\n",
       "      <th>8</th>\n",
       "      <td>Thailand</td>\n",
       "      <td>2019</td>\n",
       "      <td>1,653,241.70</td>\n",
       "      <td>0</td>\n",
       "    </tr>\n",
       "    <tr>\n",
       "      <th>9</th>\n",
       "      <td>Thailand</td>\n",
       "      <td>2017</td>\n",
       "      <td>1,652,845.82</td>\n",
       "      <td>0</td>\n",
       "    </tr>\n",
       "    <tr>\n",
       "      <th>10</th>\n",
       "      <td>Netherlands</td>\n",
       "      <td>2019</td>\n",
       "      <td>1,622,188.20</td>\n",
       "      <td>0</td>\n",
       "    </tr>\n",
       "    <tr>\n",
       "      <th>11</th>\n",
       "      <td>Spain</td>\n",
       "      <td>2016</td>\n",
       "      <td>1,621,691.01</td>\n",
       "      <td>0</td>\n",
       "    </tr>\n",
       "    <tr>\n",
       "      <th>12</th>\n",
       "      <td>Thailand</td>\n",
       "      <td>2016</td>\n",
       "      <td>1,531,615.99</td>\n",
       "      <td>0</td>\n",
       "    </tr>\n",
       "    <tr>\n",
       "      <th>13</th>\n",
       "      <td>Iran</td>\n",
       "      <td>2019</td>\n",
       "      <td>1,525,906.51</td>\n",
       "      <td>0</td>\n",
       "    </tr>\n",
       "    <tr>\n",
       "      <th>14</th>\n",
       "      <td>Netherlands</td>\n",
       "      <td>2017</td>\n",
       "      <td>1,517,003.82</td>\n",
       "      <td>0</td>\n",
       "    </tr>\n",
       "    <tr>\n",
       "      <th>15</th>\n",
       "      <td>Netherlands</td>\n",
       "      <td>2016</td>\n",
       "      <td>1,490,261.46</td>\n",
       "      <td>0</td>\n",
       "    </tr>\n",
       "    <tr>\n",
       "      <th>16</th>\n",
       "      <td>Spain</td>\n",
       "      <td>2015</td>\n",
       "      <td>1,399,456.59</td>\n",
       "      <td>0</td>\n",
       "    </tr>\n",
       "    <tr>\n",
       "      <th>17</th>\n",
       "      <td>Netherlands</td>\n",
       "      <td>2018</td>\n",
       "      <td>1,305,698.16</td>\n",
       "      <td>0</td>\n",
       "    </tr>\n",
       "    <tr>\n",
       "      <th>18</th>\n",
       "      <td>Turkey</td>\n",
       "      <td>2019</td>\n",
       "      <td>1,299,684.77</td>\n",
       "      <td>0</td>\n",
       "    </tr>\n",
       "    <tr>\n",
       "      <th>19</th>\n",
       "      <td>Iran</td>\n",
       "      <td>2018</td>\n",
       "      <td>1,297,633.87</td>\n",
       "      <td>0</td>\n",
       "    </tr>\n",
       "  </tbody>\n",
       "</table>\n",
       "</div>"
      ],
      "text/plain": [
       "        country  year          tons  pop\n",
       "0         China  2018 67,547,214.21    0\n",
       "1         China  2019 54,411,695.23    0\n",
       "2         China  2017 53,733,446.81    0\n",
       "3         China  2016 38,563,909.13    0\n",
       "4         China  2015 23,897,292.37    0\n",
       "5         Spain  2019  2,182,822.98    0\n",
       "6         Spain  2017  2,016,854.28    0\n",
       "7         Spain  2018  1,889,039.45    0\n",
       "8      Thailand  2019  1,653,241.70    0\n",
       "9      Thailand  2017  1,652,845.82    0\n",
       "10  Netherlands  2019  1,622,188.20    0\n",
       "11        Spain  2016  1,621,691.01    0\n",
       "12     Thailand  2016  1,531,615.99    0\n",
       "13         Iran  2019  1,525,906.51    0\n",
       "14  Netherlands  2017  1,517,003.82    0\n",
       "15  Netherlands  2016  1,490,261.46    0\n",
       "16        Spain  2015  1,399,456.59    0\n",
       "17  Netherlands  2018  1,305,698.16    0\n",
       "18       Turkey  2019  1,299,684.77    0\n",
       "19         Iran  2018  1,297,633.87    0"
      ]
     },
     "execution_count": 417,
     "metadata": {},
     "output_type": "execute_result"
    }
   ],
   "source": [
    "exportationd_five_years_soy.reset_index()"
   ]
  },
  {
   "cell_type": "code",
   "execution_count": 389,
   "metadata": {},
   "outputs": [
    {
     "data": {
      "text/html": [
       "<div>\n",
       "<style scoped>\n",
       "    .dataframe tbody tr th:only-of-type {\n",
       "        vertical-align: middle;\n",
       "    }\n",
       "\n",
       "    .dataframe tbody tr th {\n",
       "        vertical-align: top;\n",
       "    }\n",
       "\n",
       "    .dataframe thead th {\n",
       "        text-align: right;\n",
       "    }\n",
       "</style>\n",
       "<table border=\"1\" class=\"dataframe\">\n",
       "  <thead>\n",
       "    <tr style=\"text-align: right;\">\n",
       "      <th></th>\n",
       "      <th>Country Name</th>\n",
       "      <th>2015</th>\n",
       "      <th>2016</th>\n",
       "      <th>2017</th>\n",
       "      <th>2018</th>\n",
       "      <th>2019</th>\n",
       "    </tr>\n",
       "  </thead>\n",
       "  <tbody>\n",
       "  </tbody>\n",
       "</table>\n",
       "</div>"
      ],
      "text/plain": [
       "Empty DataFrame\n",
       "Columns: [Country Name, 2015, 2016, 2017, 2018, 2019]\n",
       "Index: []"
      ]
     },
     "execution_count": 389,
     "metadata": {},
     "output_type": "execute_result"
    }
   ],
   "source": [
    "df_countries_pop[df_countries_pop['Country Name']==\"Iran\"]['2018'].values[0]"
   ]
  },
  {
   "cell_type": "code",
   "execution_count": 418,
   "metadata": {},
   "outputs": [
    {
     "name": "stderr",
     "output_type": "stream",
     "text": [
      "C:\\ProgramData\\Anaconda3\\lib\\site-packages\\ipykernel_launcher.py:3: DeprecationWarning: The truth value of an empty array is ambiguous. Returning False, but in future this will result in an error. Use `array.size > 0` to check that an array is not empty.\n",
      "  This is separate from the ipykernel package so we can avoid doing imports until\n"
     ]
    }
   ],
   "source": [
    "for country,year in exportationd_five_years_soy.index.to_list():\n",
    "    #print(country)\n",
    "    if df_countries_pop[df_countries_pop['Country Name']==country][str(year)].values:\n",
    "        exportationd_five_years_soy.loc[(country,year),'pop'] = df_countries_pop[df_countries_pop['Country Name']==country][str(year)].values[0]        \n",
    "    else:\n",
    "        exportationd_five_years_soy.loc[(country,year),'pop']=0\n",
    "        \n",
    "    "
   ]
  },
  {
   "cell_type": "code",
   "execution_count": 419,
   "metadata": {},
   "outputs": [
    {
     "data": {
      "text/html": [
       "<div>\n",
       "<style scoped>\n",
       "    .dataframe tbody tr th:only-of-type {\n",
       "        vertical-align: middle;\n",
       "    }\n",
       "\n",
       "    .dataframe tbody tr th {\n",
       "        vertical-align: top;\n",
       "    }\n",
       "\n",
       "    .dataframe thead th {\n",
       "        text-align: right;\n",
       "    }\n",
       "</style>\n",
       "<table border=\"1\" class=\"dataframe\">\n",
       "  <thead>\n",
       "    <tr style=\"text-align: right;\">\n",
       "      <th></th>\n",
       "      <th></th>\n",
       "      <th>tons</th>\n",
       "      <th>pop</th>\n",
       "    </tr>\n",
       "    <tr>\n",
       "      <th>country</th>\n",
       "      <th>year</th>\n",
       "      <th></th>\n",
       "      <th></th>\n",
       "    </tr>\n",
       "  </thead>\n",
       "  <tbody>\n",
       "    <tr>\n",
       "      <th rowspan=\"5\" valign=\"top\">China</th>\n",
       "      <th>2018</th>\n",
       "      <td>67,547,214.21</td>\n",
       "      <td>1,392,730,000.00</td>\n",
       "    </tr>\n",
       "    <tr>\n",
       "      <th>2019</th>\n",
       "      <td>54,411,695.23</td>\n",
       "      <td>1,397,715,000.00</td>\n",
       "    </tr>\n",
       "    <tr>\n",
       "      <th>2017</th>\n",
       "      <td>53,733,446.81</td>\n",
       "      <td>1,386,395,000.00</td>\n",
       "    </tr>\n",
       "    <tr>\n",
       "      <th>2016</th>\n",
       "      <td>38,563,909.13</td>\n",
       "      <td>1,378,665,000.00</td>\n",
       "    </tr>\n",
       "    <tr>\n",
       "      <th>2015</th>\n",
       "      <td>23,897,292.37</td>\n",
       "      <td>1,371,220,000.00</td>\n",
       "    </tr>\n",
       "    <tr>\n",
       "      <th rowspan=\"3\" valign=\"top\">Spain</th>\n",
       "      <th>2019</th>\n",
       "      <td>2,182,822.98</td>\n",
       "      <td>47,076,781.00</td>\n",
       "    </tr>\n",
       "    <tr>\n",
       "      <th>2017</th>\n",
       "      <td>2,016,854.28</td>\n",
       "      <td>46,593,236.00</td>\n",
       "    </tr>\n",
       "    <tr>\n",
       "      <th>2018</th>\n",
       "      <td>1,889,039.45</td>\n",
       "      <td>46,797,754.00</td>\n",
       "    </tr>\n",
       "    <tr>\n",
       "      <th rowspan=\"2\" valign=\"top\">Thailand</th>\n",
       "      <th>2019</th>\n",
       "      <td>1,653,241.70</td>\n",
       "      <td>69,625,582.00</td>\n",
       "    </tr>\n",
       "    <tr>\n",
       "      <th>2017</th>\n",
       "      <td>1,652,845.82</td>\n",
       "      <td>69,209,858.00</td>\n",
       "    </tr>\n",
       "    <tr>\n",
       "      <th>Netherlands</th>\n",
       "      <th>2019</th>\n",
       "      <td>1,622,188.20</td>\n",
       "      <td>17,332,850.00</td>\n",
       "    </tr>\n",
       "    <tr>\n",
       "      <th>Spain</th>\n",
       "      <th>2016</th>\n",
       "      <td>1,621,691.01</td>\n",
       "      <td>46,484,062.00</td>\n",
       "    </tr>\n",
       "    <tr>\n",
       "      <th>Thailand</th>\n",
       "      <th>2016</th>\n",
       "      <td>1,531,615.99</td>\n",
       "      <td>68,971,331.00</td>\n",
       "    </tr>\n",
       "    <tr>\n",
       "      <th>Iran</th>\n",
       "      <th>2019</th>\n",
       "      <td>1,525,906.51</td>\n",
       "      <td>0.00</td>\n",
       "    </tr>\n",
       "    <tr>\n",
       "      <th rowspan=\"2\" valign=\"top\">Netherlands</th>\n",
       "      <th>2017</th>\n",
       "      <td>1,517,003.82</td>\n",
       "      <td>17,131,296.00</td>\n",
       "    </tr>\n",
       "    <tr>\n",
       "      <th>2016</th>\n",
       "      <td>1,490,261.46</td>\n",
       "      <td>17,030,314.00</td>\n",
       "    </tr>\n",
       "    <tr>\n",
       "      <th>Spain</th>\n",
       "      <th>2015</th>\n",
       "      <td>1,399,456.59</td>\n",
       "      <td>46,444,832.00</td>\n",
       "    </tr>\n",
       "    <tr>\n",
       "      <th>Netherlands</th>\n",
       "      <th>2018</th>\n",
       "      <td>1,305,698.16</td>\n",
       "      <td>17,231,624.00</td>\n",
       "    </tr>\n",
       "    <tr>\n",
       "      <th>Turkey</th>\n",
       "      <th>2019</th>\n",
       "      <td>1,299,684.77</td>\n",
       "      <td>83,429,615.00</td>\n",
       "    </tr>\n",
       "    <tr>\n",
       "      <th>Iran</th>\n",
       "      <th>2018</th>\n",
       "      <td>1,297,633.87</td>\n",
       "      <td>0.00</td>\n",
       "    </tr>\n",
       "  </tbody>\n",
       "</table>\n",
       "</div>"
      ],
      "text/plain": [
       "                          tons              pop\n",
       "country     year                               \n",
       "China       2018 67,547,214.21 1,392,730,000.00\n",
       "            2019 54,411,695.23 1,397,715,000.00\n",
       "            2017 53,733,446.81 1,386,395,000.00\n",
       "            2016 38,563,909.13 1,378,665,000.00\n",
       "            2015 23,897,292.37 1,371,220,000.00\n",
       "Spain       2019  2,182,822.98    47,076,781.00\n",
       "            2017  2,016,854.28    46,593,236.00\n",
       "            2018  1,889,039.45    46,797,754.00\n",
       "Thailand    2019  1,653,241.70    69,625,582.00\n",
       "            2017  1,652,845.82    69,209,858.00\n",
       "Netherlands 2019  1,622,188.20    17,332,850.00\n",
       "Spain       2016  1,621,691.01    46,484,062.00\n",
       "Thailand    2016  1,531,615.99    68,971,331.00\n",
       "Iran        2019  1,525,906.51             0.00\n",
       "Netherlands 2017  1,517,003.82    17,131,296.00\n",
       "            2016  1,490,261.46    17,030,314.00\n",
       "Spain       2015  1,399,456.59    46,444,832.00\n",
       "Netherlands 2018  1,305,698.16    17,231,624.00\n",
       "Turkey      2019  1,299,684.77    83,429,615.00\n",
       "Iran        2018  1,297,633.87             0.00"
      ]
     },
     "execution_count": 419,
     "metadata": {},
     "output_type": "execute_result"
    }
   ],
   "source": [
    "exportationd_five_years_soy"
   ]
  },
  {
   "cell_type": "markdown",
   "metadata": {},
   "source": [
    "Falar sobre potencial de crescimento X população"
   ]
  }
 ],
 "metadata": {
  "kernelspec": {
   "display_name": "Python 3",
   "language": "python",
   "name": "python3"
  },
  "language_info": {
   "codemirror_mode": {
    "name": "ipython",
    "version": 3
   },
   "file_extension": ".py",
   "mimetype": "text/x-python",
   "name": "python",
   "nbconvert_exporter": "python",
   "pygments_lexer": "ipython3",
   "version": "3.7.6"
  }
 },
 "nbformat": 4,
 "nbformat_minor": 4
}
